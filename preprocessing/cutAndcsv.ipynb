{
 "cells": [
  {
   "cell_type": "markdown",
   "metadata": {},
   "source": [
    "## 读取mseed文件并截取30s的波形存为单独的mseed文件,同时创建csv_list包含这些文件的名字"
   ]
  },
  {
   "cell_type": "code",
   "execution_count": 1,
   "metadata": {},
   "outputs": [
    {
     "ename": "KeyboardInterrupt",
     "evalue": "",
     "output_type": "error",
     "traceback": [
      "\u001b[1;31m---------------------------------------------------------------------------\u001b[0m",
      "\u001b[1;31mKeyboardInterrupt\u001b[0m                         Traceback (most recent call last)",
      "\u001b[1;32m~\\AppData\\Local\\Temp\\ipykernel_19576\\2024491577.py\u001b[0m in \u001b[0;36m<module>\u001b[1;34m\u001b[0m\n\u001b[0;32m     47\u001b[0m         \u001b[0msegments\u001b[0m \u001b[1;33m=\u001b[0m \u001b[0msplit_segments\u001b[0m\u001b[1;33m(\u001b[0m\u001b[0mst\u001b[0m\u001b[1;33m,\u001b[0m \u001b[0msegment_length\u001b[0m\u001b[1;33m)\u001b[0m\u001b[1;33m\u001b[0m\u001b[1;33m\u001b[0m\u001b[0m\n\u001b[0;32m     48\u001b[0m         \u001b[1;32mfor\u001b[0m \u001b[0mi\u001b[0m\u001b[1;33m,\u001b[0m \u001b[0msegment\u001b[0m \u001b[1;32min\u001b[0m \u001b[0menumerate\u001b[0m\u001b[1;33m(\u001b[0m\u001b[0msegments\u001b[0m\u001b[1;33m)\u001b[0m\u001b[1;33m:\u001b[0m\u001b[1;33m\u001b[0m\u001b[1;33m\u001b[0m\u001b[0m\n\u001b[1;32m---> 49\u001b[1;33m             \u001b[0msegment\u001b[0m\u001b[1;33m.\u001b[0m\u001b[0mwrite\u001b[0m\u001b[1;33m(\u001b[0m\u001b[0mos\u001b[0m\u001b[1;33m.\u001b[0m\u001b[0mpath\u001b[0m\u001b[1;33m.\u001b[0m\u001b[0mjoin\u001b[0m\u001b[1;33m(\u001b[0m\u001b[0moutput_directory\u001b[0m\u001b[1;33m,\u001b[0m\u001b[1;34mf\"{mseed_file}_segment_{i}.mseed\"\u001b[0m\u001b[1;33m)\u001b[0m\u001b[1;33m,\u001b[0m \u001b[0mformat\u001b[0m\u001b[1;33m=\u001b[0m\u001b[1;34m\"MSEED\"\u001b[0m\u001b[1;33m)\u001b[0m\u001b[1;33m\u001b[0m\u001b[1;33m\u001b[0m\u001b[0m\n\u001b[0m\u001b[0;32m     50\u001b[0m \u001b[1;33m\u001b[0m\u001b[0m\n\u001b[0;32m     51\u001b[0m \u001b[1;31m# 同时创建csv_list\u001b[0m\u001b[1;33m\u001b[0m\u001b[1;33m\u001b[0m\u001b[1;33m\u001b[0m\u001b[0m\n",
      "\u001b[1;32md:\\Anaconda\\envs\\eqtransformer\\lib\\site-packages\\obspy\\core\\stream.py\u001b[0m in \u001b[0;36mwrite\u001b[1;34m(self, filename, format, **kwargs)\u001b[0m\n\u001b[0;32m   1454\u001b[0m             raise ValueError(msg % (format,\n\u001b[0;32m   1455\u001b[0m                                     ', '.join(ENTRY_POINTS['waveform_write'])))\n\u001b[1;32m-> 1456\u001b[1;33m         \u001b[0mwrite_format\u001b[0m\u001b[1;33m(\u001b[0m\u001b[0mself\u001b[0m\u001b[1;33m,\u001b[0m \u001b[0mfilename\u001b[0m\u001b[1;33m,\u001b[0m \u001b[1;33m**\u001b[0m\u001b[0mkwargs\u001b[0m\u001b[1;33m)\u001b[0m\u001b[1;33m\u001b[0m\u001b[1;33m\u001b[0m\u001b[0m\n\u001b[0m\u001b[0;32m   1457\u001b[0m \u001b[1;33m\u001b[0m\u001b[0m\n\u001b[0;32m   1458\u001b[0m     def trim(self, starttime=None, endtime=None, pad=False,\n",
      "\u001b[1;32md:\\Anaconda\\envs\\eqtransformer\\lib\\site-packages\\obspy\\io\\mseed\\core.py\u001b[0m in \u001b[0;36m_write_mseed\u001b[1;34m(stream, filename, encoding, reclen, byteorder, sequence_number, flush, verbose, **_kwargs)\u001b[0m\n\u001b[0;32m    827\u001b[0m     \u001b[1;31m# Open filehandler or use an existing file like object.\u001b[0m\u001b[1;33m\u001b[0m\u001b[1;33m\u001b[0m\u001b[1;33m\u001b[0m\u001b[0m\n\u001b[0;32m    828\u001b[0m     \u001b[1;32mif\u001b[0m \u001b[1;32mnot\u001b[0m \u001b[0mhasattr\u001b[0m\u001b[1;33m(\u001b[0m\u001b[0mfilename\u001b[0m\u001b[1;33m,\u001b[0m \u001b[1;34m'write'\u001b[0m\u001b[1;33m)\u001b[0m\u001b[1;33m:\u001b[0m\u001b[1;33m\u001b[0m\u001b[1;33m\u001b[0m\u001b[0m\n\u001b[1;32m--> 829\u001b[1;33m         \u001b[0mf\u001b[0m \u001b[1;33m=\u001b[0m \u001b[0mopen\u001b[0m\u001b[1;33m(\u001b[0m\u001b[0mfilename\u001b[0m\u001b[1;33m,\u001b[0m \u001b[1;34m'wb'\u001b[0m\u001b[1;33m)\u001b[0m\u001b[1;33m\u001b[0m\u001b[1;33m\u001b[0m\u001b[0m\n\u001b[0m\u001b[0;32m    830\u001b[0m     \u001b[1;32melse\u001b[0m\u001b[1;33m:\u001b[0m\u001b[1;33m\u001b[0m\u001b[1;33m\u001b[0m\u001b[0m\n\u001b[0;32m    831\u001b[0m         \u001b[0mf\u001b[0m \u001b[1;33m=\u001b[0m \u001b[0mfilename\u001b[0m\u001b[1;33m\u001b[0m\u001b[1;33m\u001b[0m\u001b[0m\n",
      "\u001b[1;31mKeyboardInterrupt\u001b[0m: "
     ]
    }
   ],
   "source": [
    "import obspy\n",
    "import os\n",
    "import pandas as pd\n",
    "# 创建30s的mseed波形用于降噪\n",
    "# 定义函数用于切分数据段\n",
    "def split_segments(stream, segment_length):\n",
    "    segments = []\n",
    "    \n",
    "    total_duration = stream[0].stats.endtime - stream[0].stats.starttime   # len(stream)=3\n",
    "    start_time = stream[0].stats.starttime\n",
    "\n",
    "    \n",
    "    \n",
    "    # 切分数据段\n",
    "    while start_time + segment_length <= stream[0].stats.endtime+0.01:\n",
    "        #print(start_time + segment_length)\n",
    "        end_time = start_time + segment_length-0.01\n",
    "        segment = stream.slice(start_time, end_time)     # len(segment)=3\n",
    "        segments.append(segment)     # segments=[(20000,3),...(20000,3)]\n",
    "        start_time += segment_length\n",
    "    \n",
    "    #group_names = [f\"{group_name_prefix}{i + 1:02}\" for i in range(len(segments))]\n",
    "    \n",
    "    return segments\n",
    "# 读取单个MiniSEED文件\n",
    "# 定义存放 miniseed 文件的目录\n",
    "input_directory = \"G:/云南巧家宽频带数据/QJ04/2022\"\n",
    "output_directory = \"G:/云南巧家宽频带数据/mseed_list/QJ042022\"\n",
    "# 检查输出目录是否存在，如果不存在则创建\n",
    "if not os.path.exists(output_directory):\n",
    "    os.makedirs(output_directory)\n",
    "\n",
    "# for year in os.listdir(input_directory):\n",
    "#     year_path = os.path.join(input_directory,year)  \n",
    "for month in os.listdir(input_directory):\n",
    "    month_path = os.path.join(input_directory,month)\n",
    "    # 获取目录中所有的 .mseed 文件\n",
    "    mseed_files = [f for f in os.listdir(month_path) if f.endswith('.miniseed')]\n",
    "    for mseed_file in mseed_files:\n",
    "        # 构建完整文件路径\n",
    "        file_path = os.path.join(month_path, mseed_file)\n",
    "        \n",
    "        st = obspy.read(file_path)\n",
    "\n",
    "        segment_length = 30  # 每段长度为200秒\n",
    "\n",
    "        segments = split_segments(st, segment_length)\n",
    "        for i, segment in enumerate(segments):\n",
    "            segment.write(os.path.join(output_directory,f\"{mseed_file}_segment_{i}.mseed\"), format=\"MSEED\")\n",
    "            \n",
    "# 同时创建csv_list\n",
    "# 获取 MiniSEED 文件列表\n",
    "mseed_files = [f for f in os.listdir(output_directory) if f.endswith(\".mseed\")]\n",
    "#for mseed_file in mseed_files:\n",
    "\t#mseed_path = os.path.join(mseed_folder, mseed_file)\n",
    "\t# 获取 MiniSEED 文件列表\n",
    "\t#mseed_names = [f for f in os.listdir(mseed_path) if f.endswith(\".mseed\")]\n",
    "\t# 创建 DataFrame\n",
    "df = pd.DataFrame({\"fname\": mseed_files})\n",
    "\n",
    "# 将 DataFrame 写入 CSV 文件\n",
    "csv_file = os.path.join(output_directory,\"csv_list.csv\")\n",
    "df.to_csv(csv_file, index=False) "
   ]
  },
  {
   "cell_type": "code",
   "execution_count": null,
   "metadata": {},
   "outputs": [],
   "source": [
    "# 同时创建csv_list\n",
    "# 获取 MiniSEED 文件列表\n",
    "import os\n",
    "import pandas as pd\n",
    "output_directory = \"g:/云南巧家宽频带数据/mseed_list/QJ092023\"\n",
    "mseed_files = sorted([f for f in os.listdir(output_directory) if f.endswith(\".mseed\")])\n",
    "#for mseed_file in mseed_files:\n",
    "\t#mseed_path = os.path.join(mseed_folder, mseed_file)\n",
    "\t# 获取 MiniSEED 文件列表\n",
    "\t#mseed_names = [f for f in os.listdir(mseed_path) if f.endswith(\".mseed\")]\n",
    "\t# 创建 DataFrame\n",
    "df = pd.DataFrame({\"fname\": mseed_files})\n",
    "\n",
    "# 将 DataFrame 写入 CSV 文件\n",
    "csv_file = os.path.join(output_directory,\"csv_list.csv\")\n",
    "df.to_csv(csv_file, index=False) "
   ]
  }
 ],
 "metadata": {
  "kernelspec": {
   "display_name": "eqtransformer",
   "language": "python",
   "name": "python3"
  },
  "language_info": {
   "codemirror_mode": {
    "name": "ipython",
    "version": 3
   },
   "file_extension": ".py",
   "mimetype": "text/x-python",
   "name": "python",
   "nbconvert_exporter": "python",
   "pygments_lexer": "ipython3",
   "version": "3.7.1"
  }
 },
 "nbformat": 4,
 "nbformat_minor": 2
}
